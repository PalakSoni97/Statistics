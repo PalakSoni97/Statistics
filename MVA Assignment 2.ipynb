{
 "cells": [
  {
   "cell_type": "markdown",
   "metadata": {},
   "source": [
    "                                    Applied MultiVariate Statistics (TERM 3)\n",
    "\n",
    "                                                Assignment 2 \n",
    "\n",
    "#### Name   : Navin Babu\n",
    "#### Roll No: 2020DMF03"
   ]
  },
  {
   "cell_type": "code",
   "execution_count": 109,
   "metadata": {},
   "outputs": [
    {
     "name": "stderr",
     "output_type": "stream",
     "text": [
      "UsageError: unrecognized arguments: #import all the necessary packages\n"
     ]
    }
   ],
   "source": [
    "import numpy as np\n",
    "import pandas as pd\n",
    "import seaborn as sns\n",
    "from scipy.stats import multivariate_normal\n",
    "from mpl_toolkits.mplot3d import Axes3D\n",
    "import matplotlib.pyplot as plt\n",
    "import statsmodels.api as sm \n",
    "import pylab as py\n",
    "import math \n",
    "from scipy import stats\n",
    "from scipy.special import ndtri\n",
    " \n",
    "%matplotlib inline                    #import all the necessary packages"
   ]
  },
  {
   "cell_type": "code",
   "execution_count": 2,
   "metadata": {},
   "outputs": [
    {
     "data": {
      "text/html": [
       "<div>\n",
       "<style scoped>\n",
       "    .dataframe tbody tr th:only-of-type {\n",
       "        vertical-align: middle;\n",
       "    }\n",
       "\n",
       "    .dataframe tbody tr th {\n",
       "        vertical-align: top;\n",
       "    }\n",
       "\n",
       "    .dataframe thead th {\n",
       "        text-align: right;\n",
       "    }\n",
       "</style>\n",
       "<table border=\"1\" class=\"dataframe\">\n",
       "  <thead>\n",
       "    <tr style=\"text-align: right;\">\n",
       "      <th></th>\n",
       "      <th>Date</th>\n",
       "      <th>Date_YMD</th>\n",
       "      <th>Status</th>\n",
       "      <th>KL</th>\n",
       "    </tr>\n",
       "  </thead>\n",
       "  <tbody>\n",
       "    <tr>\n",
       "      <th>0</th>\n",
       "      <td>2020-03-14</td>\n",
       "      <td>2020-03-14</td>\n",
       "      <td>Confirmed</td>\n",
       "      <td>19</td>\n",
       "    </tr>\n",
       "    <tr>\n",
       "      <th>1</th>\n",
       "      <td>2020-03-14</td>\n",
       "      <td>2020-03-14</td>\n",
       "      <td>Recovered</td>\n",
       "      <td>3</td>\n",
       "    </tr>\n",
       "    <tr>\n",
       "      <th>2</th>\n",
       "      <td>2020-03-14</td>\n",
       "      <td>2020-03-14</td>\n",
       "      <td>Deceased</td>\n",
       "      <td>0</td>\n",
       "    </tr>\n",
       "    <tr>\n",
       "      <th>3</th>\n",
       "      <td>2020-03-15</td>\n",
       "      <td>2020-03-15</td>\n",
       "      <td>Confirmed</td>\n",
       "      <td>5</td>\n",
       "    </tr>\n",
       "    <tr>\n",
       "      <th>4</th>\n",
       "      <td>2020-03-15</td>\n",
       "      <td>2020-03-15</td>\n",
       "      <td>Recovered</td>\n",
       "      <td>0</td>\n",
       "    </tr>\n",
       "    <tr>\n",
       "      <th>...</th>\n",
       "      <td>...</td>\n",
       "      <td>...</td>\n",
       "      <td>...</td>\n",
       "      <td>...</td>\n",
       "    </tr>\n",
       "    <tr>\n",
       "      <th>1000</th>\n",
       "      <td>2021-02-10</td>\n",
       "      <td>2021-02-10</td>\n",
       "      <td>Recovered</td>\n",
       "      <td>5745</td>\n",
       "    </tr>\n",
       "    <tr>\n",
       "      <th>1001</th>\n",
       "      <td>2021-02-10</td>\n",
       "      <td>2021-02-10</td>\n",
       "      <td>Deceased</td>\n",
       "      <td>18</td>\n",
       "    </tr>\n",
       "    <tr>\n",
       "      <th>1002</th>\n",
       "      <td>2021-02-11</td>\n",
       "      <td>2021-02-11</td>\n",
       "      <td>Confirmed</td>\n",
       "      <td>5281</td>\n",
       "    </tr>\n",
       "    <tr>\n",
       "      <th>1003</th>\n",
       "      <td>2021-02-11</td>\n",
       "      <td>2021-02-11</td>\n",
       "      <td>Recovered</td>\n",
       "      <td>5692</td>\n",
       "    </tr>\n",
       "    <tr>\n",
       "      <th>1004</th>\n",
       "      <td>2021-02-11</td>\n",
       "      <td>2021-02-11</td>\n",
       "      <td>Deceased</td>\n",
       "      <td>16</td>\n",
       "    </tr>\n",
       "  </tbody>\n",
       "</table>\n",
       "<p>1005 rows × 4 columns</p>\n",
       "</div>"
      ],
      "text/plain": [
       "           Date   Date_YMD     Status    KL\n",
       "0    2020-03-14 2020-03-14  Confirmed    19\n",
       "1    2020-03-14 2020-03-14  Recovered     3\n",
       "2    2020-03-14 2020-03-14   Deceased     0\n",
       "3    2020-03-15 2020-03-15  Confirmed     5\n",
       "4    2020-03-15 2020-03-15  Recovered     0\n",
       "...         ...        ...        ...   ...\n",
       "1000 2021-02-10 2021-02-10  Recovered  5745\n",
       "1001 2021-02-10 2021-02-10   Deceased    18\n",
       "1002 2021-02-11 2021-02-11  Confirmed  5281\n",
       "1003 2021-02-11 2021-02-11  Recovered  5692\n",
       "1004 2021-02-11 2021-02-11   Deceased    16\n",
       "\n",
       "[1005 rows x 4 columns]"
      ]
     },
     "execution_count": 2,
     "metadata": {},
     "output_type": "execute_result"
    }
   ],
   "source": [
    "df = pd.read_excel(r'A:\\Madras School of Economics\\Term 3\\MVA\\Assignment\\state_wise_daily Raw1.xlsx')\n",
    "df                                 #read the COVID excelsheet"
   ]
  },
  {
   "cell_type": "code",
   "execution_count": 3,
   "metadata": {},
   "outputs": [
    {
     "data": {
      "text/html": [
       "<div>\n",
       "<style scoped>\n",
       "    .dataframe tbody tr th:only-of-type {\n",
       "        vertical-align: middle;\n",
       "    }\n",
       "\n",
       "    .dataframe tbody tr th {\n",
       "        vertical-align: top;\n",
       "    }\n",
       "\n",
       "    .dataframe thead th {\n",
       "        text-align: right;\n",
       "    }\n",
       "</style>\n",
       "<table border=\"1\" class=\"dataframe\">\n",
       "  <thead>\n",
       "    <tr style=\"text-align: right;\">\n",
       "      <th></th>\n",
       "      <th>Date</th>\n",
       "      <th>Date_YMD</th>\n",
       "      <th>Status</th>\n",
       "      <th>KL</th>\n",
       "    </tr>\n",
       "  </thead>\n",
       "  <tbody>\n",
       "    <tr>\n",
       "      <th>0</th>\n",
       "      <td>2020-03-14</td>\n",
       "      <td>2020-03-14</td>\n",
       "      <td>Confirmed</td>\n",
       "      <td>19</td>\n",
       "    </tr>\n",
       "    <tr>\n",
       "      <th>3</th>\n",
       "      <td>2020-03-15</td>\n",
       "      <td>2020-03-15</td>\n",
       "      <td>Confirmed</td>\n",
       "      <td>5</td>\n",
       "    </tr>\n",
       "    <tr>\n",
       "      <th>6</th>\n",
       "      <td>2020-03-16</td>\n",
       "      <td>2020-03-16</td>\n",
       "      <td>Confirmed</td>\n",
       "      <td>3</td>\n",
       "    </tr>\n",
       "    <tr>\n",
       "      <th>9</th>\n",
       "      <td>2020-03-17</td>\n",
       "      <td>2020-03-17</td>\n",
       "      <td>Confirmed</td>\n",
       "      <td>0</td>\n",
       "    </tr>\n",
       "    <tr>\n",
       "      <th>12</th>\n",
       "      <td>2020-03-18</td>\n",
       "      <td>2020-03-18</td>\n",
       "      <td>Confirmed</td>\n",
       "      <td>0</td>\n",
       "    </tr>\n",
       "    <tr>\n",
       "      <th>...</th>\n",
       "      <td>...</td>\n",
       "      <td>...</td>\n",
       "      <td>...</td>\n",
       "      <td>...</td>\n",
       "    </tr>\n",
       "    <tr>\n",
       "      <th>990</th>\n",
       "      <td>2021-02-07</td>\n",
       "      <td>2021-02-07</td>\n",
       "      <td>Confirmed</td>\n",
       "      <td>6075</td>\n",
       "    </tr>\n",
       "    <tr>\n",
       "      <th>993</th>\n",
       "      <td>2021-02-08</td>\n",
       "      <td>2021-02-08</td>\n",
       "      <td>Confirmed</td>\n",
       "      <td>3742</td>\n",
       "    </tr>\n",
       "    <tr>\n",
       "      <th>996</th>\n",
       "      <td>2021-02-09</td>\n",
       "      <td>2021-02-09</td>\n",
       "      <td>Confirmed</td>\n",
       "      <td>5214</td>\n",
       "    </tr>\n",
       "    <tr>\n",
       "      <th>999</th>\n",
       "      <td>2021-02-10</td>\n",
       "      <td>2021-02-10</td>\n",
       "      <td>Confirmed</td>\n",
       "      <td>5980</td>\n",
       "    </tr>\n",
       "    <tr>\n",
       "      <th>1002</th>\n",
       "      <td>2021-02-11</td>\n",
       "      <td>2021-02-11</td>\n",
       "      <td>Confirmed</td>\n",
       "      <td>5281</td>\n",
       "    </tr>\n",
       "  </tbody>\n",
       "</table>\n",
       "<p>335 rows × 4 columns</p>\n",
       "</div>"
      ],
      "text/plain": [
       "           Date   Date_YMD     Status    KL\n",
       "0    2020-03-14 2020-03-14  Confirmed    19\n",
       "3    2020-03-15 2020-03-15  Confirmed     5\n",
       "6    2020-03-16 2020-03-16  Confirmed     3\n",
       "9    2020-03-17 2020-03-17  Confirmed     0\n",
       "12   2020-03-18 2020-03-18  Confirmed     0\n",
       "...         ...        ...        ...   ...\n",
       "990  2021-02-07 2021-02-07  Confirmed  6075\n",
       "993  2021-02-08 2021-02-08  Confirmed  3742\n",
       "996  2021-02-09 2021-02-09  Confirmed  5214\n",
       "999  2021-02-10 2021-02-10  Confirmed  5980\n",
       "1002 2021-02-11 2021-02-11  Confirmed  5281\n",
       "\n",
       "[335 rows x 4 columns]"
      ]
     },
     "execution_count": 3,
     "metadata": {},
     "output_type": "execute_result"
    }
   ],
   "source": [
    "totalcases_df = df[df[\"Status\"] == 'Confirmed']\n",
    "totalcases_df                                    #filtering confirmed cases"
   ]
  },
  {
   "cell_type": "code",
   "execution_count": 4,
   "metadata": {},
   "outputs": [
    {
     "data": {
      "text/html": [
       "<div>\n",
       "<style scoped>\n",
       "    .dataframe tbody tr th:only-of-type {\n",
       "        vertical-align: middle;\n",
       "    }\n",
       "\n",
       "    .dataframe tbody tr th {\n",
       "        vertical-align: top;\n",
       "    }\n",
       "\n",
       "    .dataframe thead th {\n",
       "        text-align: right;\n",
       "    }\n",
       "</style>\n",
       "<table border=\"1\" class=\"dataframe\">\n",
       "  <thead>\n",
       "    <tr style=\"text-align: right;\">\n",
       "      <th></th>\n",
       "      <th>Date</th>\n",
       "      <th>Date_YMD</th>\n",
       "      <th>Status</th>\n",
       "      <th>KL</th>\n",
       "    </tr>\n",
       "  </thead>\n",
       "  <tbody>\n",
       "    <tr>\n",
       "      <th>2</th>\n",
       "      <td>2020-03-14</td>\n",
       "      <td>2020-03-14</td>\n",
       "      <td>Deceased</td>\n",
       "      <td>0</td>\n",
       "    </tr>\n",
       "    <tr>\n",
       "      <th>5</th>\n",
       "      <td>2020-03-15</td>\n",
       "      <td>2020-03-15</td>\n",
       "      <td>Deceased</td>\n",
       "      <td>0</td>\n",
       "    </tr>\n",
       "    <tr>\n",
       "      <th>8</th>\n",
       "      <td>2020-03-16</td>\n",
       "      <td>2020-03-16</td>\n",
       "      <td>Deceased</td>\n",
       "      <td>0</td>\n",
       "    </tr>\n",
       "    <tr>\n",
       "      <th>11</th>\n",
       "      <td>2020-03-17</td>\n",
       "      <td>2020-03-17</td>\n",
       "      <td>Deceased</td>\n",
       "      <td>0</td>\n",
       "    </tr>\n",
       "    <tr>\n",
       "      <th>14</th>\n",
       "      <td>2020-03-18</td>\n",
       "      <td>2020-03-18</td>\n",
       "      <td>Deceased</td>\n",
       "      <td>0</td>\n",
       "    </tr>\n",
       "    <tr>\n",
       "      <th>...</th>\n",
       "      <td>...</td>\n",
       "      <td>...</td>\n",
       "      <td>...</td>\n",
       "      <td>...</td>\n",
       "    </tr>\n",
       "    <tr>\n",
       "      <th>992</th>\n",
       "      <td>2021-02-07</td>\n",
       "      <td>2021-02-07</td>\n",
       "      <td>Deceased</td>\n",
       "      <td>19</td>\n",
       "    </tr>\n",
       "    <tr>\n",
       "      <th>995</th>\n",
       "      <td>2021-02-08</td>\n",
       "      <td>2021-02-08</td>\n",
       "      <td>Deceased</td>\n",
       "      <td>16</td>\n",
       "    </tr>\n",
       "    <tr>\n",
       "      <th>998</th>\n",
       "      <td>2021-02-09</td>\n",
       "      <td>2021-02-09</td>\n",
       "      <td>Deceased</td>\n",
       "      <td>19</td>\n",
       "    </tr>\n",
       "    <tr>\n",
       "      <th>1001</th>\n",
       "      <td>2021-02-10</td>\n",
       "      <td>2021-02-10</td>\n",
       "      <td>Deceased</td>\n",
       "      <td>18</td>\n",
       "    </tr>\n",
       "    <tr>\n",
       "      <th>1004</th>\n",
       "      <td>2021-02-11</td>\n",
       "      <td>2021-02-11</td>\n",
       "      <td>Deceased</td>\n",
       "      <td>16</td>\n",
       "    </tr>\n",
       "  </tbody>\n",
       "</table>\n",
       "<p>335 rows × 4 columns</p>\n",
       "</div>"
      ],
      "text/plain": [
       "           Date   Date_YMD    Status  KL\n",
       "2    2020-03-14 2020-03-14  Deceased   0\n",
       "5    2020-03-15 2020-03-15  Deceased   0\n",
       "8    2020-03-16 2020-03-16  Deceased   0\n",
       "11   2020-03-17 2020-03-17  Deceased   0\n",
       "14   2020-03-18 2020-03-18  Deceased   0\n",
       "...         ...        ...       ...  ..\n",
       "992  2021-02-07 2021-02-07  Deceased  19\n",
       "995  2021-02-08 2021-02-08  Deceased  16\n",
       "998  2021-02-09 2021-02-09  Deceased  19\n",
       "1001 2021-02-10 2021-02-10  Deceased  18\n",
       "1004 2021-02-11 2021-02-11  Deceased  16\n",
       "\n",
       "[335 rows x 4 columns]"
      ]
     },
     "execution_count": 4,
     "metadata": {},
     "output_type": "execute_result"
    }
   ],
   "source": [
    "deceased_df = df[df[\"Status\"] == 'Deceased']\n",
    "deceased_df                                         #filtering deceased cases"
   ]
  },
  {
   "cell_type": "markdown",
   "metadata": {},
   "source": [
    "### a) For each of the two variables, draw a histogram and overlay the normal density to observe the departure if any from normality to the two variables in earlier assignment. Use kernel density approach to overlay the normal graph."
   ]
  },
  {
   "cell_type": "markdown",
   "metadata": {},
   "source": [
    "##### For Confirmed cases"
   ]
  },
  {
   "cell_type": "code",
   "execution_count": 147,
   "metadata": {},
   "outputs": [
    {
     "data": {
      "image/png": "[encoded data removed]",
      "text/plain": [
       "<Figure size 1080x324 with 1 Axes>"
      ]
     },
     "metadata": {
      "needs_background": "light"
     },
     "output_type": "display_data"
    }
   ],
   "source": [
    "plt.figure(figsize=(15,4.5))\n",
    "sns.distplot(totalcases_df['KL'], hist = True, bins=10, kde = True, color = 'green')\n",
    "plt.title(\"Histogram & Kernel Density plot\", fontsize=20)\n",
    "plt.xlabel(\"Total number of confirmed cases\", fontsize=15)\n",
    "plt.ylabel(\"Density function\", fontsize=15)\n",
    "plt.grid(axis='y')"
   ]
  },
  {
   "cell_type": "markdown",
   "metadata": {},
   "source": [
    "##### For Deceased cases"
   ]
  },
  {
   "cell_type": "code",
   "execution_count": 125,
   "metadata": {},
   "outputs": [
    {
     "data": {
      "image/png": "[encoded data removed]",
      "text/plain": [
       "<Figure size 1080x324 with 1 Axes>"
      ]
     },
     "metadata": {
      "needs_background": "light"
     },
     "output_type": "display_data"
    }
   ],
   "source": [
    "plt.figure(figsize=(15,4.5))\n",
    "sns.distplot(deceased_df['KL'], hist = True, bins=10, kde = True, color = 'red')\n",
    "plt.title(\"Histogram & Kernel Density plot\", fontsize=20)\n",
    "plt.xlabel(\"Total number of confirmed cases\", fontsize=15)\n",
    "plt.ylabel(\"Density function\", fontsize=15)\n",
    "plt.grid(axis='y')"
   ]
  },
  {
   "cell_type": "markdown",
   "metadata": {},
   "source": [
    "### b) Draw the bivariate normality pdf and also assess the shape of the contour for normality and comment on the correlation between the two variables."
   ]
  },
  {
   "cell_type": "code",
   "execution_count": 126,
   "metadata": {},
   "outputs": [
    {
     "data": {
      "text/plain": [
       "nan"
      ]
     },
     "execution_count": 126,
     "metadata": {},
     "output_type": "execute_result"
    }
   ],
   "source": [
    "correlation = totalcases_df['KL'].corr(deceased_df[\"KL\"])\n",
    "correlation     #From the data, we get the information that there is no correlation between Confirmed cases and Deceased cases"
   ]
  },
  {
   "cell_type": "markdown",
   "metadata": {},
   "source": [
    "##### For Confirmed Cases"
   ]
  },
  {
   "cell_type": "code",
   "execution_count": 146,
   "metadata": {},
   "outputs": [
    {
     "data": {
      "text/plain": [
       "[Text(0, 0.5, 'Frequency'), Text(0.5, 0, 'Normal Distribution')]"
      ]
     },
     "execution_count": 146,
     "metadata": {},
     "output_type": "execute_result"
    },
    {
     "data": {
      "image/png": "[encoded data removed]",
      "text/plain": [
       "<Figure size 432x288 with 1 Axes>"
      ]
     },
     "metadata": {
      "needs_background": "light"
     },
     "output_type": "display_data"
    }
   ],
   "source": [
    "nd_tc = sns.distplot(totalcases_df['KL'], bins=25, kde=True, color='green')\n",
    "nd_tc.set(xlabel = 'Normal Distribution', ylabel='Frequency')"
   ]
  },
  {
   "cell_type": "markdown",
   "metadata": {},
   "source": [
    "##### For Deceased Cases"
   ]
  },
  {
   "cell_type": "code",
   "execution_count": 128,
   "metadata": {},
   "outputs": [
    {
     "data": {
      "text/plain": [
       "[Text(0, 0.5, 'Frequency'), Text(0.5, 0, 'Normal Distribution')]"
      ]
     },
     "execution_count": 128,
     "metadata": {},
     "output_type": "execute_result"
    },
    {
     "data": {
      "image/png": "[encoded data removed]",
      "text/plain": [
       "<Figure size 432x288 with 1 Axes>"
      ]
     },
     "metadata": {
      "needs_background": "light"
     },
     "output_type": "display_data"
    }
   ],
   "source": [
    "nd_dc = sns.distplot(deceased_df['KL'], bins=25, kde=True, color='red')\n",
    "nd_dc.set(xlabel = 'Normal Distribution', ylabel='Frequency')"
   ]
  },
  {
   "cell_type": "markdown",
   "metadata": {},
   "source": [
    "##### Contour Plot"
   ]
  },
  {
   "cell_type": "code",
   "execution_count": 164,
   "metadata": {},
   "outputs": [
    {
     "data": {
      "image/png": "[encoded data removed]",
      "text/plain": [
       "<Figure size 432x288 with 1 Axes>"
      ]
     },
     "metadata": {
      "needs_background": "light"
     },
     "output_type": "display_data"
    }
   ],
   "source": [
    "x_mean = totalcases_df['KL'].mean()\n",
    "y_mean = deceased_df['KL'].mean()\n",
    "x_var = totalcases_df['KL'].var()\n",
    "y_var = deceased_df['KL'].var()\n",
    "x_tc = totalcases_df['KL']\n",
    "y_dc = deceased_df['KL']\n",
    "X,Y = np.meshgrid(x_tc,y_dc)\n",
    "pos = np.empty(X.shape + (2,))\n",
    "pos[:, :, 0] = X; pos[:, :, 1] = Y\n",
    "rv = multivariate_normal([x_mean, y_mean], [[x_var, 0], [0, y_var]])\n",
    "Z = rv.pdf(pos)\n",
    "contourplot = plt.figure()\n",
    "tcdc_contour = contourplot.gca(projection = '3d')\n",
    "tcdc_contour.plot_surface(X, Y, Z, cmap='inferno', linewidth = 0)\n",
    "tcdc_contour.set_xlabel('Total Cases')\n",
    "tcdc_contour.set_ylabel('Deceased Cases')\n",
    "tcdc_contour.set_zlabel('Z axis')\n",
    "tcdc_contour.set_title('Total Confirmed cases')\n",
    "\n",
    "plt.show()"
   ]
  },
  {
   "cell_type": "markdown",
   "metadata": {},
   "source": [
    "### c) Check if the two variables (Total Cases & Deceased Cases) are normally distributed."
   ]
  },
  {
   "cell_type": "markdown",
   "metadata": {},
   "source": [
    "##### For Confirmed Cases"
   ]
  },
  {
   "cell_type": "code",
   "execution_count": 145,
   "metadata": {},
   "outputs": [
    {
     "data": {
      "image/png": "[encoded data removed]",
      "text/plain": [
       "<Figure size 432x288 with 1 Axes>"
      ]
     },
     "metadata": {
      "needs_background": "light"
     },
     "output_type": "display_data"
    }
   ],
   "source": [
    "x_mean = totalcases_df['KL'].mean()\n",
    "x_var = totalcases_df['KL'].var()\n",
    "sigma_x = math.sqrt(var_x)\n",
    "x = np.linspace(x_mean - 3*sigma_x, x_mean + 3*sigma_x, 100)\n",
    "plt.plot(x, stats.norm.pdf(x, x_mean, sigma_x), color = 'green')\n",
    "\n",
    "plt.show()"
   ]
  },
  {
   "cell_type": "markdown",
   "metadata": {},
   "source": [
    "##### For Deceased Cases"
   ]
  },
  {
   "cell_type": "code",
   "execution_count": 144,
   "metadata": {},
   "outputs": [
    {
     "data": {
      "image/png": "[encoded data removed]",
      "text/plain": [
       "<Figure size 432x288 with 1 Axes>"
      ]
     },
     "metadata": {
      "needs_background": "light"
     },
     "output_type": "display_data"
    }
   ],
   "source": [
    "y_mean = deceased_df['KL'].mean()\n",
    "y_var = deceased_df['KL'].var()\n",
    "sigma_y = math.sqrt(var_y)\n",
    "y = np.linspace(y_mean - 3*sigma_y, y_mean + 3*sigma_y, 100)\n",
    "plt.plot(y, stats.norm.pdf(y, y_mean, sigma_y), color = 'red')\n",
    "\n",
    "plt.show()"
   ]
  },
  {
   "cell_type": "markdown",
   "metadata": {},
   "source": [
    "### d) Use the Q-Q plot approach for each of the variables and verify further the departure if any from normality"
   ]
  },
  {
   "cell_type": "markdown",
   "metadata": {},
   "source": [
    "##### For Confirmed cases"
   ]
  },
  {
   "cell_type": "code",
   "execution_count": 150,
   "metadata": {},
   "outputs": [],
   "source": [
    "conf_df = totalcases_df.sort_values(by=['KL'],ascending=True).reset_index()"
   ]
  },
  {
   "cell_type": "code",
   "execution_count": 151,
   "metadata": {},
   "outputs": [
    {
     "data": {
      "text/html": [
       "<div>\n",
       "<style scoped>\n",
       "    .dataframe tbody tr th:only-of-type {\n",
       "        vertical-align: middle;\n",
       "    }\n",
       "\n",
       "    .dataframe tbody tr th {\n",
       "        vertical-align: top;\n",
       "    }\n",
       "\n",
       "    .dataframe thead th {\n",
       "        text-align: right;\n",
       "    }\n",
       "</style>\n",
       "<table border=\"1\" class=\"dataframe\">\n",
       "  <thead>\n",
       "    <tr style=\"text-align: right;\">\n",
       "      <th></th>\n",
       "      <th>index</th>\n",
       "      <th>Date</th>\n",
       "      <th>Date_YMD</th>\n",
       "      <th>Status</th>\n",
       "      <th>KL</th>\n",
       "      <th>count</th>\n",
       "      <th>percentile_area</th>\n",
       "      <th>z_theoritical</th>\n",
       "      <th>z_actual</th>\n",
       "    </tr>\n",
       "  </thead>\n",
       "  <tbody>\n",
       "    <tr>\n",
       "      <th>0</th>\n",
       "      <td>9</td>\n",
       "      <td>2020-03-17</td>\n",
       "      <td>2020-03-17</td>\n",
       "      <td>Confirmed</td>\n",
       "      <td>0</td>\n",
       "      <td>1</td>\n",
       "      <td>0.002985</td>\n",
       "      <td>-2.749416</td>\n",
       "      <td>-1.019588</td>\n",
       "    </tr>\n",
       "    <tr>\n",
       "      <th>1</th>\n",
       "      <td>12</td>\n",
       "      <td>2020-03-18</td>\n",
       "      <td>2020-03-18</td>\n",
       "      <td>Confirmed</td>\n",
       "      <td>0</td>\n",
       "      <td>2</td>\n",
       "      <td>0.005970</td>\n",
       "      <td>-2.513904</td>\n",
       "      <td>-1.019588</td>\n",
       "    </tr>\n",
       "    <tr>\n",
       "      <th>2</th>\n",
       "      <td>159</td>\n",
       "      <td>2020-05-06</td>\n",
       "      <td>2020-05-06</td>\n",
       "      <td>Confirmed</td>\n",
       "      <td>0</td>\n",
       "      <td>3</td>\n",
       "      <td>0.008955</td>\n",
       "      <td>-2.367464</td>\n",
       "      <td>-1.019588</td>\n",
       "    </tr>\n",
       "    <tr>\n",
       "      <th>3</th>\n",
       "      <td>153</td>\n",
       "      <td>2020-05-04</td>\n",
       "      <td>2020-05-04</td>\n",
       "      <td>Confirmed</td>\n",
       "      <td>0</td>\n",
       "      <td>4</td>\n",
       "      <td>0.011940</td>\n",
       "      <td>-2.259045</td>\n",
       "      <td>-1.019588</td>\n",
       "    </tr>\n",
       "    <tr>\n",
       "      <th>4</th>\n",
       "      <td>150</td>\n",
       "      <td>2020-05-03</td>\n",
       "      <td>2020-05-03</td>\n",
       "      <td>Confirmed</td>\n",
       "      <td>0</td>\n",
       "      <td>5</td>\n",
       "      <td>0.014925</td>\n",
       "      <td>-2.172065</td>\n",
       "      <td>-1.019588</td>\n",
       "    </tr>\n",
       "  </tbody>\n",
       "</table>\n",
       "</div>"
      ],
      "text/plain": [
       "   index       Date   Date_YMD     Status  KL  count  percentile_area  \\\n",
       "0      9 2020-03-17 2020-03-17  Confirmed   0      1         0.002985   \n",
       "1     12 2020-03-18 2020-03-18  Confirmed   0      2         0.005970   \n",
       "2    159 2020-05-06 2020-05-06  Confirmed   0      3         0.008955   \n",
       "3    153 2020-05-04 2020-05-04  Confirmed   0      4         0.011940   \n",
       "4    150 2020-05-03 2020-05-03  Confirmed   0      5         0.014925   \n",
       "\n",
       "   z_theoritical  z_actual  \n",
       "0      -2.749416 -1.019588  \n",
       "1      -2.513904 -1.019588  \n",
       "2      -2.367464 -1.019588  \n",
       "3      -2.259045 -1.019588  \n",
       "4      -2.172065 -1.019588  "
      ]
     },
     "execution_count": 151,
     "metadata": {},
     "output_type": "execute_result"
    }
   ],
   "source": [
    "conf_df['count'] =conf_df.index+1\n",
    "df.head()"
   ]
  },
  {
   "cell_type": "code",
   "execution_count": 152,
   "metadata": {},
   "outputs": [
    {
     "data": {
      "text/html": [
       "<div>\n",
       "<style scoped>\n",
       "    .dataframe tbody tr th:only-of-type {\n",
       "        vertical-align: middle;\n",
       "    }\n",
       "\n",
       "    .dataframe tbody tr th {\n",
       "        vertical-align: top;\n",
       "    }\n",
       "\n",
       "    .dataframe thead th {\n",
       "        text-align: right;\n",
       "    }\n",
       "</style>\n",
       "<table border=\"1\" class=\"dataframe\">\n",
       "  <thead>\n",
       "    <tr style=\"text-align: right;\">\n",
       "      <th></th>\n",
       "      <th>index</th>\n",
       "      <th>Date</th>\n",
       "      <th>Date_YMD</th>\n",
       "      <th>Status</th>\n",
       "      <th>KL</th>\n",
       "      <th>count</th>\n",
       "      <th>percentile_area</th>\n",
       "      <th>z_theoritical</th>\n",
       "      <th>z_actual</th>\n",
       "    </tr>\n",
       "  </thead>\n",
       "  <tbody>\n",
       "    <tr>\n",
       "      <th>0</th>\n",
       "      <td>9</td>\n",
       "      <td>2020-03-17</td>\n",
       "      <td>2020-03-17</td>\n",
       "      <td>Confirmed</td>\n",
       "      <td>0</td>\n",
       "      <td>1</td>\n",
       "      <td>0.002985</td>\n",
       "      <td>-2.749416</td>\n",
       "      <td>-1.019588</td>\n",
       "    </tr>\n",
       "    <tr>\n",
       "      <th>1</th>\n",
       "      <td>12</td>\n",
       "      <td>2020-03-18</td>\n",
       "      <td>2020-03-18</td>\n",
       "      <td>Confirmed</td>\n",
       "      <td>0</td>\n",
       "      <td>2</td>\n",
       "      <td>0.005970</td>\n",
       "      <td>-2.513904</td>\n",
       "      <td>-1.019588</td>\n",
       "    </tr>\n",
       "    <tr>\n",
       "      <th>2</th>\n",
       "      <td>159</td>\n",
       "      <td>2020-05-06</td>\n",
       "      <td>2020-05-06</td>\n",
       "      <td>Confirmed</td>\n",
       "      <td>0</td>\n",
       "      <td>3</td>\n",
       "      <td>0.008955</td>\n",
       "      <td>-2.367464</td>\n",
       "      <td>-1.019588</td>\n",
       "    </tr>\n",
       "    <tr>\n",
       "      <th>3</th>\n",
       "      <td>153</td>\n",
       "      <td>2020-05-04</td>\n",
       "      <td>2020-05-04</td>\n",
       "      <td>Confirmed</td>\n",
       "      <td>0</td>\n",
       "      <td>4</td>\n",
       "      <td>0.011940</td>\n",
       "      <td>-2.259045</td>\n",
       "      <td>-1.019588</td>\n",
       "    </tr>\n",
       "    <tr>\n",
       "      <th>4</th>\n",
       "      <td>150</td>\n",
       "      <td>2020-05-03</td>\n",
       "      <td>2020-05-03</td>\n",
       "      <td>Confirmed</td>\n",
       "      <td>0</td>\n",
       "      <td>5</td>\n",
       "      <td>0.014925</td>\n",
       "      <td>-2.172065</td>\n",
       "      <td>-1.019588</td>\n",
       "    </tr>\n",
       "  </tbody>\n",
       "</table>\n",
       "</div>"
      ],
      "text/plain": [
       "   index       Date   Date_YMD     Status  KL  count  percentile_area  \\\n",
       "0      9 2020-03-17 2020-03-17  Confirmed   0      1         0.002985   \n",
       "1     12 2020-03-18 2020-03-18  Confirmed   0      2         0.005970   \n",
       "2    159 2020-05-06 2020-05-06  Confirmed   0      3         0.008955   \n",
       "3    153 2020-05-04 2020-05-04  Confirmed   0      4         0.011940   \n",
       "4    150 2020-05-03 2020-05-03  Confirmed   0      5         0.014925   \n",
       "\n",
       "   z_theoritical  z_actual  \n",
       "0      -2.749416 -1.019588  \n",
       "1      -2.513904 -1.019588  \n",
       "2      -2.367464 -1.019588  \n",
       "3      -2.259045 -1.019588  \n",
       "4      -2.172065 -1.019588  "
      ]
     },
     "execution_count": 152,
     "metadata": {},
     "output_type": "execute_result"
    }
   ],
   "source": [
    "n_rows = conf_df.shape[0]\n",
    "conf_df['percentile_area'] = (conf_df['count'])/n_rows\n",
    "conf_df['z_theoritical'] = ndtri(conf_df['percentile_area'])\n",
    "conf_df['z_actual'] = (conf_df['KL'] - conf_df['KL'].mean())/conf_df['KL'].std(ddof=0)\n",
    "conf_df.head()"
   ]
  },
  {
   "cell_type": "code",
   "execution_count": 163,
   "metadata": {},
   "outputs": [
    {
     "data": {
      "image/png": "[encoded data removed]",
      "text/plain": [
       "<Figure size 432x288 with 1 Axes>"
      ]
     },
     "metadata": {
      "needs_background": "light"
     },
     "output_type": "display_data"
    }
   ],
   "source": [
    "plt.scatter(conf_df.z_actual, conf_df.z_theoritical, color = 'green')\n",
    "plt.plot([-2,-1,0,1,2],[-2,-1,0,1,2], color = 'green')\n",
    "plt.xlabel('z_actual')\n",
    "plt.ylabel('z_theoritical')\n",
    "plt.title('Q-Q plot for Total Confirmed Cases')\n",
    "plt.show()"
   ]
  },
  {
   "cell_type": "code",
   "execution_count": 160,
   "metadata": {},
   "outputs": [
    {
     "data": {
      "text/plain": [
       "[<matplotlib.lines.Line2D at 0x1644c163490>]"
      ]
     },
     "execution_count": 160,
     "metadata": {},
     "output_type": "execute_result"
    },
    {
     "data": {
      "image/png": "[encoded data removed]",
      "text/plain": [
       "<Figure size 432x288 with 1 Axes>"
      ]
     },
     "metadata": {
      "needs_background": "light"
     },
     "output_type": "display_data"
    }
   ],
   "source": [
    "plt.scatter(conf_df.z_theoritical, conf_df.z_theoritical, color = 'green')\n",
    "plt.plot([-2,-1,0,1,2],[-2,-1,0,1,2], color = 'green')"
   ]
  },
  {
   "cell_type": "markdown",
   "metadata": {},
   "source": [
    "##### For Deceased Cases"
   ]
  },
  {
   "cell_type": "code",
   "execution_count": 156,
   "metadata": {},
   "outputs": [
    {
     "data": {
      "text/html": [
       "<div>\n",
       "<style scoped>\n",
       "    .dataframe tbody tr th:only-of-type {\n",
       "        vertical-align: middle;\n",
       "    }\n",
       "\n",
       "    .dataframe tbody tr th {\n",
       "        vertical-align: top;\n",
       "    }\n",
       "\n",
       "    .dataframe thead th {\n",
       "        text-align: right;\n",
       "    }\n",
       "</style>\n",
       "<table border=\"1\" class=\"dataframe\">\n",
       "  <thead>\n",
       "    <tr style=\"text-align: right;\">\n",
       "      <th></th>\n",
       "      <th>index</th>\n",
       "      <th>Date</th>\n",
       "      <th>Date_YMD</th>\n",
       "      <th>Status</th>\n",
       "      <th>KL</th>\n",
       "      <th>count</th>\n",
       "    </tr>\n",
       "  </thead>\n",
       "  <tbody>\n",
       "    <tr>\n",
       "      <th>0</th>\n",
       "      <td>2</td>\n",
       "      <td>2020-03-14</td>\n",
       "      <td>2020-03-14</td>\n",
       "      <td>Deceased</td>\n",
       "      <td>0</td>\n",
       "      <td>1</td>\n",
       "    </tr>\n",
       "    <tr>\n",
       "      <th>1</th>\n",
       "      <td>224</td>\n",
       "      <td>2020-05-27</td>\n",
       "      <td>2020-05-27</td>\n",
       "      <td>Deceased</td>\n",
       "      <td>0</td>\n",
       "      <td>2</td>\n",
       "    </tr>\n",
       "    <tr>\n",
       "      <th>2</th>\n",
       "      <td>218</td>\n",
       "      <td>2020-05-25</td>\n",
       "      <td>2020-05-25</td>\n",
       "      <td>Deceased</td>\n",
       "      <td>0</td>\n",
       "      <td>3</td>\n",
       "    </tr>\n",
       "    <tr>\n",
       "      <th>3</th>\n",
       "      <td>212</td>\n",
       "      <td>2020-05-23</td>\n",
       "      <td>2020-05-23</td>\n",
       "      <td>Deceased</td>\n",
       "      <td>0</td>\n",
       "      <td>4</td>\n",
       "    </tr>\n",
       "    <tr>\n",
       "      <th>4</th>\n",
       "      <td>206</td>\n",
       "      <td>2020-05-21</td>\n",
       "      <td>2020-05-21</td>\n",
       "      <td>Deceased</td>\n",
       "      <td>0</td>\n",
       "      <td>5</td>\n",
       "    </tr>\n",
       "  </tbody>\n",
       "</table>\n",
       "</div>"
      ],
      "text/plain": [
       "   index       Date   Date_YMD    Status  KL  count\n",
       "0      2 2020-03-14 2020-03-14  Deceased   0      1\n",
       "1    224 2020-05-27 2020-05-27  Deceased   0      2\n",
       "2    218 2020-05-25 2020-05-25  Deceased   0      3\n",
       "3    212 2020-05-23 2020-05-23  Deceased   0      4\n",
       "4    206 2020-05-21 2020-05-21  Deceased   0      5"
      ]
     },
     "execution_count": 156,
     "metadata": {},
     "output_type": "execute_result"
    }
   ],
   "source": [
    "dec_df = deceased_df.sort_values(by=['KL'],ascending=True).reset_index()\n",
    "dec_df['count'] =dec_df.index+1\n",
    "dec_df.head()"
   ]
  },
  {
   "cell_type": "code",
   "execution_count": 157,
   "metadata": {},
   "outputs": [
    {
     "data": {
      "text/html": [
       "<div>\n",
       "<style scoped>\n",
       "    .dataframe tbody tr th:only-of-type {\n",
       "        vertical-align: middle;\n",
       "    }\n",
       "\n",
       "    .dataframe tbody tr th {\n",
       "        vertical-align: top;\n",
       "    }\n",
       "\n",
       "    .dataframe thead th {\n",
       "        text-align: right;\n",
       "    }\n",
       "</style>\n",
       "<table border=\"1\" class=\"dataframe\">\n",
       "  <thead>\n",
       "    <tr style=\"text-align: right;\">\n",
       "      <th></th>\n",
       "      <th>index</th>\n",
       "      <th>Date</th>\n",
       "      <th>Date_YMD</th>\n",
       "      <th>Status</th>\n",
       "      <th>KL</th>\n",
       "      <th>count</th>\n",
       "      <th>percentile_area</th>\n",
       "      <th>z_theoritical</th>\n",
       "      <th>z_actual</th>\n",
       "    </tr>\n",
       "  </thead>\n",
       "  <tbody>\n",
       "    <tr>\n",
       "      <th>0</th>\n",
       "      <td>2</td>\n",
       "      <td>2020-03-14</td>\n",
       "      <td>2020-03-14</td>\n",
       "      <td>Deceased</td>\n",
       "      <td>0</td>\n",
       "      <td>1</td>\n",
       "      <td>0.002985</td>\n",
       "      <td>-2.749416</td>\n",
       "      <td>-1.054996</td>\n",
       "    </tr>\n",
       "    <tr>\n",
       "      <th>1</th>\n",
       "      <td>224</td>\n",
       "      <td>2020-05-27</td>\n",
       "      <td>2020-05-27</td>\n",
       "      <td>Deceased</td>\n",
       "      <td>0</td>\n",
       "      <td>2</td>\n",
       "      <td>0.005970</td>\n",
       "      <td>-2.513904</td>\n",
       "      <td>-1.054996</td>\n",
       "    </tr>\n",
       "    <tr>\n",
       "      <th>2</th>\n",
       "      <td>218</td>\n",
       "      <td>2020-05-25</td>\n",
       "      <td>2020-05-25</td>\n",
       "      <td>Deceased</td>\n",
       "      <td>0</td>\n",
       "      <td>3</td>\n",
       "      <td>0.008955</td>\n",
       "      <td>-2.367464</td>\n",
       "      <td>-1.054996</td>\n",
       "    </tr>\n",
       "    <tr>\n",
       "      <th>3</th>\n",
       "      <td>212</td>\n",
       "      <td>2020-05-23</td>\n",
       "      <td>2020-05-23</td>\n",
       "      <td>Deceased</td>\n",
       "      <td>0</td>\n",
       "      <td>4</td>\n",
       "      <td>0.011940</td>\n",
       "      <td>-2.259045</td>\n",
       "      <td>-1.054996</td>\n",
       "    </tr>\n",
       "    <tr>\n",
       "      <th>4</th>\n",
       "      <td>206</td>\n",
       "      <td>2020-05-21</td>\n",
       "      <td>2020-05-21</td>\n",
       "      <td>Deceased</td>\n",
       "      <td>0</td>\n",
       "      <td>5</td>\n",
       "      <td>0.014925</td>\n",
       "      <td>-2.172065</td>\n",
       "      <td>-1.054996</td>\n",
       "    </tr>\n",
       "  </tbody>\n",
       "</table>\n",
       "</div>"
      ],
      "text/plain": [
       "   index       Date   Date_YMD    Status  KL  count  percentile_area  \\\n",
       "0      2 2020-03-14 2020-03-14  Deceased   0      1         0.002985   \n",
       "1    224 2020-05-27 2020-05-27  Deceased   0      2         0.005970   \n",
       "2    218 2020-05-25 2020-05-25  Deceased   0      3         0.008955   \n",
       "3    212 2020-05-23 2020-05-23  Deceased   0      4         0.011940   \n",
       "4    206 2020-05-21 2020-05-21  Deceased   0      5         0.014925   \n",
       "\n",
       "   z_theoritical  z_actual  \n",
       "0      -2.749416 -1.054996  \n",
       "1      -2.513904 -1.054996  \n",
       "2      -2.367464 -1.054996  \n",
       "3      -2.259045 -1.054996  \n",
       "4      -2.172065 -1.054996  "
      ]
     },
     "execution_count": 157,
     "metadata": {},
     "output_type": "execute_result"
    }
   ],
   "source": [
    "n_rows = dec_df.shape[0]\n",
    "dec_df['percentile_area'] = (dec_df['count'])/n_rows\n",
    "dec_df['z_theoritical'] = ndtri(dec_df['percentile_area'])\n",
    "dec_df['z_actual'] = (dec_df['KL'] - dec_df['KL'].mean())/dec_df['KL'].std(ddof=0)\n",
    "dec_df.head()"
   ]
  },
  {
   "cell_type": "code",
   "execution_count": 162,
   "metadata": {},
   "outputs": [
    {
     "data": {
      "image/png": "[encoded data removed]",
      "text/plain": [
       "<Figure size 432x288 with 1 Axes>"
      ]
     },
     "metadata": {
      "needs_background": "light"
     },
     "output_type": "display_data"
    }
   ],
   "source": [
    "plt.scatter(dec_df.z_actual, dec_df.z_theoritical, color = 'red')\n",
    "plt.plot([-2,-1,0,1,2],[-2,-1,0,1,2], color = 'red')\n",
    "plt.xlabel('z_actual')\n",
    "plt.ylabel('z_theoritical')\n",
    "plt.title('Q-Q plot for Deceased cases')\n",
    "plt.show()"
   ]
  },
  {
   "cell_type": "code",
   "execution_count": 159,
   "metadata": {},
   "outputs": [
    {
     "data": {
      "text/plain": [
       "[<matplotlib.lines.Line2D at 0x1644c018f10>]"
      ]
     },
     "execution_count": 159,
     "metadata": {},
     "output_type": "execute_result"
    },
    {
     "data": {
      "image/png": "[encoded data removed]",
      "text/plain": [
       "<Figure size 432x288 with 1 Axes>"
      ]
     },
     "metadata": {
      "needs_background": "light"
     },
     "output_type": "display_data"
    }
   ],
   "source": [
    "plt.scatter(dec_df.z_theoritical, dec_df.z_theoritical, color = 'red')\n",
    "plt.plot([-2,-1,0,1,2],[-2,-1,0,1,2], color = 'red')"
   ]
  },
  {
   "cell_type": "code",
   "execution_count": null,
   "metadata": {},
   "outputs": [],
   "source": []
  }
 ],
 "metadata": {
  "kernelspec": {
   "display_name": "Python 3",
   "language": "python",
   "name": "python3"
  },
  "language_info": {
   "codemirror_mode": {
    "name": "ipython",
    "version": 3
   },
   "file_extension": ".py",
   "mimetype": "text/x-python",
   "name": "python",
   "nbconvert_exporter": "python",
   "pygments_lexer": "ipython3",
   "version": "3.8.3"
  }
 },
 "nbformat": 4,
 "nbformat_minor": 4
}
